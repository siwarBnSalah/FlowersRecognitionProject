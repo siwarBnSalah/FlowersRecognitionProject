{
  "cells": [
    {
      "cell_type": "markdown",
      "metadata": {
        "id": "w5qQBdX-QXnz"
      },
      "source": [
        "##Importing Libraries"
      ]
    },
    {
      "cell_type": "code",
      "execution_count": null,
      "metadata": {
        "id": "5g092_0YXDOl"
      },
      "outputs": [],
      "source": [
        "import numpy as np\n",
        "import tensorflow as tf\n",
        "from keras.preprocessing.image import ImageDataGenerator\n",
        "import matplotlib.pyplot as plt"
      ]
    },
    {
      "cell_type": "code",
      "execution_count": null,
      "metadata": {
        "id": "AZCd2VwfQE_8",
        "colab": {
          "base_uri": "https://localhost:8080/"
        },
        "outputId": "b5f94b50-ea71-4001-a73c-d4d1e1199607"
      },
      "outputs": [
        {
          "output_type": "stream",
          "name": "stdout",
          "text": [
            "Mounted at /content/drive\n"
          ]
        }
      ],
      "source": [
        "#Collecting Data from Google Drive\n",
        "from google.colab import drive\n",
        "drive.mount('/content/drive')"
      ]
    },
    {
      "cell_type": "code",
      "execution_count": null,
      "metadata": {
        "colab": {
          "base_uri": "https://localhost:8080/"
        },
        "id": "OWM7t0CfUHVJ",
        "outputId": "35f4d23d-3681-4113-df27-75d67b5c9988"
      },
      "outputs": [
        {
          "output_type": "stream",
          "name": "stdout",
          "text": [
            "Collecting split_folders[full]\n",
            "  Downloading split_folders-0.5.1-py3-none-any.whl (8.4 kB)\n",
            "Requirement already satisfied: tqdm in /usr/local/lib/python3.10/dist-packages (from split_folders[full]) (4.66.1)\n",
            "Installing collected packages: split_folders\n",
            "Successfully installed split_folders-0.5.1\n"
          ]
        }
      ],
      "source": [
        "!pip install split_folders[full]"
      ]
    },
    {
      "cell_type": "code",
      "execution_count": null,
      "metadata": {
        "id": "GifD14m8PfT5",
        "colab": {
          "base_uri": "https://localhost:8080/"
        },
        "outputId": "fc5be339-014d-4952-b407-b35a9a6ccbfa"
      },
      "outputs": [
        {
          "output_type": "stream",
          "name": "stdout",
          "text": [
            "Drive already mounted at /content/drive; to attempt to forcibly remount, call drive.mount(\"/content/drive\", force_remount=True).\n"
          ]
        }
      ],
      "source": [
        "from google.colab import drive\n",
        "drive.mount('/content/drive')"
      ]
    },
    {
      "cell_type": "code",
      "execution_count": null,
      "metadata": {
        "id": "rmN_nTQJUTGO",
        "colab": {
          "base_uri": "https://localhost:8080/"
        },
        "outputId": "7bdd6b53-c14c-4a07-8d9e-dba5afda621b"
      },
      "outputs": [
        {
          "output_type": "stream",
          "name": "stderr",
          "text": [
            "Copying files: 3670 files [21:43,  2.81 files/s]\n"
          ]
        }
      ],
      "source": [
        "import splitfolders\n",
        "input_folder='/content/drive/MyDrive/flower_photos'\n",
        "splitfolders.ratio(input_folder,'/content/drive/MyDrive/flowers_Rec2',seed=1337,ratio=(0.7,0.2,0.1))"
      ]
    },
    {
      "cell_type": "markdown",
      "metadata": {
        "id": "u9DhMFPzc1Bx"
      },
      "source": [
        "###Data Preprocessing"
      ]
    },
    {
      "cell_type": "markdown",
      "metadata": {
        "id": "h9soubVKc_r9"
      },
      "source": [
        "###Training Image preprocessing"
      ]
    },
    {
      "cell_type": "code",
      "execution_count": null,
      "metadata": {
        "id": "ehJ45UqDXQHj",
        "colab": {
          "base_uri": "https://localhost:8080/"
        },
        "outputId": "73e6f7fb-eef7-42c3-915e-5e93742a1fe2"
      },
      "outputs": [
        {
          "output_type": "stream",
          "name": "stdout",
          "text": [
            "Found 2934 files belonging to 5 classes.\n"
          ]
        }
      ],
      "source": [
        "# Chargement des ensembles de données\n",
        "training_set = tf.keras.utils.image_dataset_from_directory(\n",
        "    '/content/drive/MyDrive/flowers_Rec2/train',\n",
        "    labels=\"inferred\",\n",
        "    label_mode=\"categorical\",\n",
        "    class_names=['daisy', 'dandelion', 'roses', 'sunflowers', 'tulips'],\n",
        "    color_mode=\"rgb\",\n",
        "    batch_size=64,\n",
        "    image_size=(150, 150),\n",
        "    shuffle=True,\n",
        "    seed=None,\n",
        "    validation_split=None,\n",
        "    subset=None,\n",
        "    interpolation=\"bilinear\",\n",
        "    follow_links=False,\n",
        "    crop_to_aspect_ratio=False\n",
        ")\n"
      ]
    },
    {
      "cell_type": "markdown",
      "metadata": {
        "id": "5us9yF-Bg6UO"
      },
      "source": [
        "###Validation Image preprocessing"
      ]
    },
    {
      "cell_type": "code",
      "execution_count": null,
      "metadata": {
        "id": "9cFfkRQqWDIW",
        "colab": {
          "base_uri": "https://localhost:8080/"
        },
        "outputId": "c0cbca12-3e47-459a-f131-70bd0efb94af"
      },
      "outputs": [
        {
          "output_type": "stream",
          "name": "stdout",
          "text": [
            "Found 1099 files belonging to 5 classes.\n"
          ]
        }
      ],
      "source": [
        "validation_set = tf.keras.utils.image_dataset_from_directory(\n",
        "    '/content/drive/MyDrive/flowers_Rec2/val',\n",
        "    labels=\"inferred\",\n",
        "    label_mode=\"categorical\",\n",
        "    class_names=['daisy', 'dandelion', 'roses', 'sunflowers', 'tulips'],\n",
        "    color_mode=\"rgb\",\n",
        "    batch_size=64,\n",
        "    image_size=(150, 150),\n",
        "    shuffle=True,\n",
        "    seed=None,\n",
        "    validation_split=None,\n",
        "    subset=None,\n",
        "    interpolation=\"bilinear\",\n",
        "    follow_links=False,\n",
        "    crop_to_aspect_ratio=False\n",
        ")"
      ]
    },
    {
      "cell_type": "markdown",
      "metadata": {
        "id": "-QrUKtPrh0Ci"
      },
      "source": [
        "###Building Model"
      ]
    },
    {
      "cell_type": "code",
      "execution_count": null,
      "metadata": {
        "id": "CRud93lWg1sR"
      },
      "outputs": [],
      "source": [
        "cnn = tf.keras.models.Sequential()"
      ]
    },
    {
      "cell_type": "code",
      "execution_count": null,
      "metadata": {
        "id": "tCxEkpgJWiRo"
      },
      "outputs": [],
      "source": [
        "cnn.add(tf.keras.layers.Conv2D(filters=16, kernel_size=5,activation='relu',input_shape=[150,150,3]))\n",
        "cnn.add(tf.keras.layers.MaxPool2D(pool_size=2,strides=2))"
      ]
    },
    {
      "cell_type": "code",
      "execution_count": null,
      "metadata": {
        "id": "9RtxJbl1WsLR"
      },
      "outputs": [],
      "source": [
        "cnn.add(tf.keras.layers.Conv2D(filters=32,kernel_size=3,activation='relu'))\n",
        "cnn.add(tf.keras.layers.MaxPool2D(pool_size=2,strides=2))"
      ]
    },
    {
      "cell_type": "code",
      "execution_count": null,
      "metadata": {
        "id": "w2zY_cd2XA14"
      },
      "outputs": [],
      "source": [
        "cnn.add(tf.keras.layers.Dropout(0.5))"
      ]
    },
    {
      "cell_type": "code",
      "execution_count": null,
      "metadata": {
        "id": "xRkhsYEJXDjy"
      },
      "outputs": [],
      "source": [
        "cnn.add(tf.keras.layers.Flatten())"
      ]
    },
    {
      "cell_type": "code",
      "execution_count": null,
      "metadata": {
        "id": "jGwmkevsXG8X"
      },
      "outputs": [],
      "source": [
        "cnn.add(tf.keras.layers.Dense(units=256,activation='relu'))"
      ]
    },
    {
      "cell_type": "code",
      "execution_count": null,
      "metadata": {
        "id": "JNs0OCqFXKEd"
      },
      "outputs": [],
      "source": [
        "cnn.add(tf.keras.layers.Dense(units=5,activation='softmax'))"
      ]
    },
    {
      "cell_type": "code",
      "execution_count": null,
      "metadata": {
        "id": "MRqw77oIXhRb",
        "colab": {
          "base_uri": "https://localhost:8080/"
        },
        "outputId": "322c4743-5b7c-4270-ad18-9eb6f42ee1d4"
      },
      "outputs": [
        {
          "output_type": "stream",
          "name": "stdout",
          "text": [
            "Model: \"sequential\"\n",
            "_________________________________________________________________\n",
            " Layer (type)                Output Shape              Param #   \n",
            "=================================================================\n",
            " conv2d (Conv2D)             (None, 146, 146, 16)      1216      \n",
            "                                                                 \n",
            " max_pooling2d (MaxPooling2  (None, 73, 73, 16)        0         \n",
            " D)                                                              \n",
            "                                                                 \n",
            " conv2d_1 (Conv2D)           (None, 71, 71, 32)        4640      \n",
            "                                                                 \n",
            " max_pooling2d_1 (MaxPoolin  (None, 35, 35, 32)        0         \n",
            " g2D)                                                            \n",
            "                                                                 \n",
            " dropout (Dropout)           (None, 35, 35, 32)        0         \n",
            "                                                                 \n",
            " flatten (Flatten)           (None, 39200)             0         \n",
            "                                                                 \n",
            " dense (Dense)               (None, 256)               10035456  \n",
            "                                                                 \n",
            " dense_1 (Dense)             (None, 5)                 1285      \n",
            "                                                                 \n",
            "=================================================================\n",
            "Total params: 10042597 (38.31 MB)\n",
            "Trainable params: 10042597 (38.31 MB)\n",
            "Non-trainable params: 0 (0.00 Byte)\n",
            "_________________________________________________________________\n"
          ]
        }
      ],
      "source": [
        "cnn.summary()"
      ]
    },
    {
      "cell_type": "markdown",
      "metadata": {
        "id": "mjpFbn5ZXOp1"
      },
      "source": [
        "###Compiling and Training Phase"
      ]
    },
    {
      "cell_type": "code",
      "execution_count": null,
      "metadata": {
        "id": "TcYIOEpqXvWo"
      },
      "outputs": [],
      "source": [
        "cnn.compile(optimizer='adam',loss='categorical_crossentropy', metrics=['accuracy'])"
      ]
    },
    {
      "cell_type": "code",
      "execution_count": null,
      "metadata": {
        "id": "ucNnJjhBX0Go",
        "colab": {
          "base_uri": "https://localhost:8080/"
        },
        "outputId": "18d95b98-1445-4fab-ff17-f63c7e76a50d"
      },
      "outputs": [
        {
          "output_type": "stream",
          "name": "stdout",
          "text": [
            "Epoch 1/30\n",
            "46/46 [==============================] - 190s 4s/step - loss: 256.0757 - accuracy: 0.2900 - val_loss: 1.7367 - val_accuracy: 0.3849\n",
            "Epoch 2/30\n",
            "46/46 [==============================] - 9s 181ms/step - loss: 1.6569 - accuracy: 0.3841 - val_loss: 1.3235 - val_accuracy: 0.4586\n",
            "Epoch 3/30\n",
            "46/46 [==============================] - 11s 209ms/step - loss: 1.3148 - accuracy: 0.4850 - val_loss: 1.0978 - val_accuracy: 0.5696\n",
            "Epoch 4/30\n",
            "46/46 [==============================] - 11s 229ms/step - loss: 1.0617 - accuracy: 0.6074 - val_loss: 0.9937 - val_accuracy: 0.6151\n",
            "Epoch 5/30\n",
            "46/46 [==============================] - 9s 176ms/step - loss: 0.8744 - accuracy: 0.6755 - val_loss: 0.8192 - val_accuracy: 0.7225\n",
            "Epoch 6/30\n",
            "46/46 [==============================] - 12s 222ms/step - loss: 0.7276 - accuracy: 0.7396 - val_loss: 0.7484 - val_accuracy: 0.7571\n",
            "Epoch 7/30\n",
            "46/46 [==============================] - 12s 249ms/step - loss: 0.6236 - accuracy: 0.7727 - val_loss: 0.7082 - val_accuracy: 0.7834\n",
            "Epoch 8/30\n",
            "46/46 [==============================] - 9s 176ms/step - loss: 0.4842 - accuracy: 0.8296 - val_loss: 0.6594 - val_accuracy: 0.8044\n",
            "Epoch 9/30\n",
            "46/46 [==============================] - 12s 218ms/step - loss: 0.4198 - accuracy: 0.8596 - val_loss: 0.6705 - val_accuracy: 0.8171\n",
            "Epoch 10/30\n",
            "46/46 [==============================] - 11s 223ms/step - loss: 0.3530 - accuracy: 0.8773 - val_loss: 0.6699 - val_accuracy: 0.8217\n",
            "Epoch 11/30\n",
            "46/46 [==============================] - 10s 181ms/step - loss: 0.3011 - accuracy: 0.8957 - val_loss: 0.6583 - val_accuracy: 0.8280\n",
            "Epoch 12/30\n",
            "46/46 [==============================] - 12s 234ms/step - loss: 0.2234 - accuracy: 0.9305 - val_loss: 0.6558 - val_accuracy: 0.8380\n",
            "Epoch 13/30\n",
            "46/46 [==============================] - 10s 180ms/step - loss: 0.2557 - accuracy: 0.9226 - val_loss: 0.6411 - val_accuracy: 0.8344\n",
            "Epoch 14/30\n",
            "46/46 [==============================] - 12s 240ms/step - loss: 0.2198 - accuracy: 0.9329 - val_loss: 0.6881 - val_accuracy: 0.8326\n",
            "Epoch 15/30\n",
            "46/46 [==============================] - 12s 239ms/step - loss: 0.2298 - accuracy: 0.9301 - val_loss: 0.6955 - val_accuracy: 0.8335\n",
            "Epoch 16/30\n",
            "46/46 [==============================] - 9s 177ms/step - loss: 0.1811 - accuracy: 0.9492 - val_loss: 0.6794 - val_accuracy: 0.8417\n",
            "Epoch 17/30\n",
            "46/46 [==============================] - 12s 237ms/step - loss: 0.1396 - accuracy: 0.9557 - val_loss: 0.7024 - val_accuracy: 0.8508\n",
            "Epoch 18/30\n",
            "46/46 [==============================] - 10s 203ms/step - loss: 0.1166 - accuracy: 0.9639 - val_loss: 0.7014 - val_accuracy: 0.8453\n",
            "Epoch 19/30\n",
            "46/46 [==============================] - 11s 228ms/step - loss: 0.1230 - accuracy: 0.9646 - val_loss: 0.7600 - val_accuracy: 0.8444\n",
            "Epoch 20/30\n",
            "46/46 [==============================] - 10s 203ms/step - loss: 0.1080 - accuracy: 0.9721 - val_loss: 0.7170 - val_accuracy: 0.8471\n",
            "Epoch 21/30\n",
            "46/46 [==============================] - 13s 238ms/step - loss: 0.0802 - accuracy: 0.9775 - val_loss: 0.7580 - val_accuracy: 0.8562\n",
            "Epoch 22/30\n",
            "46/46 [==============================] - 12s 230ms/step - loss: 0.0775 - accuracy: 0.9734 - val_loss: 0.8175 - val_accuracy: 0.8453\n",
            "Epoch 23/30\n",
            "46/46 [==============================] - 9s 181ms/step - loss: 0.0872 - accuracy: 0.9761 - val_loss: 0.8112 - val_accuracy: 0.8508\n",
            "Epoch 24/30\n",
            "46/46 [==============================] - 10s 193ms/step - loss: 0.0655 - accuracy: 0.9840 - val_loss: 0.7650 - val_accuracy: 0.8617\n",
            "Epoch 25/30\n",
            "46/46 [==============================] - 12s 238ms/step - loss: 0.0817 - accuracy: 0.9772 - val_loss: 0.8220 - val_accuracy: 0.8480\n",
            "Epoch 26/30\n",
            "46/46 [==============================] - 9s 183ms/step - loss: 0.0740 - accuracy: 0.9789 - val_loss: 0.8581 - val_accuracy: 0.8490\n",
            "Epoch 27/30\n",
            "46/46 [==============================] - 11s 204ms/step - loss: 0.0765 - accuracy: 0.9796 - val_loss: 0.8623 - val_accuracy: 0.8508\n",
            "Epoch 28/30\n",
            "46/46 [==============================] - 12s 230ms/step - loss: 0.0524 - accuracy: 0.9874 - val_loss: 0.7604 - val_accuracy: 0.8553\n",
            "Epoch 29/30\n",
            "46/46 [==============================] - 9s 181ms/step - loss: 0.0539 - accuracy: 0.9857 - val_loss: 0.7954 - val_accuracy: 0.8490\n",
            "Epoch 30/30\n",
            "46/46 [==============================] - 11s 199ms/step - loss: 0.0554 - accuracy: 0.9836 - val_loss: 0.7995 - val_accuracy: 0.8517\n"
          ]
        }
      ],
      "source": [
        "\n",
        "training_history = cnn.fit(x=training_set,validation_data=validation_set,epochs=30)"
      ]
    },
    {
      "cell_type": "markdown",
      "metadata": {
        "id": "cqdEJVcFbezS"
      },
      "source": [
        "###Saving Model"
      ]
    },
    {
      "cell_type": "code",
      "execution_count": null,
      "metadata": {
        "id": "xneuTp23bbwV",
        "colab": {
          "base_uri": "https://localhost:8080/"
        },
        "outputId": "af27f6f4-1126-4bc3-a0da-fd7d0db6da05"
      },
      "outputs": [
        {
          "output_type": "stream",
          "name": "stderr",
          "text": [
            "/usr/local/lib/python3.10/dist-packages/keras/src/engine/training.py:3079: UserWarning: You are saving your model as an HDF5 file via `model.save()`. This file format is considered legacy. We recommend using instead the native Keras format, e.g. `model.save('my_model.keras')`.\n",
            "  saving_api.save_model(\n"
          ]
        }
      ],
      "source": [
        "cnn.save(\"trained_model.h5\")"
      ]
    },
    {
      "cell_type": "code",
      "execution_count": null,
      "metadata": {
        "id": "EQo4tZw8bi8V"
      },
      "outputs": [],
      "source": [
        "#Recording History\n",
        "import json\n",
        "with open('training_hist.json', 'w') as f:\n",
        "    json.dump(training_history.history, f)"
      ]
    },
    {
      "cell_type": "code",
      "execution_count": null,
      "metadata": {
        "id": "ETpq3axJbk_h",
        "colab": {
          "base_uri": "https://localhost:8080/"
        },
        "outputId": "522bd87a-5c7e-45be-8e65-1fc98550dfaa"
      },
      "outputs": [
        {
          "output_type": "execute_result",
          "data": {
            "text/plain": [
              "{'loss': [256.07568359375,\n",
              "  1.656927227973938,\n",
              "  1.314772129058838,\n",
              "  1.061724066734314,\n",
              "  0.8744098544120789,\n",
              "  0.7276026606559753,\n",
              "  0.6235731244087219,\n",
              "  0.48424023389816284,\n",
              "  0.41984421014785767,\n",
              "  0.35303351283073425,\n",
              "  0.30114954710006714,\n",
              "  0.22343818843364716,\n",
              "  0.25573301315307617,\n",
              "  0.2198033183813095,\n",
              "  0.22981852293014526,\n",
              "  0.18108338117599487,\n",
              "  0.1395881026983261,\n",
              "  0.1165902242064476,\n",
              "  0.12295929342508316,\n",
              "  0.108035147190094,\n",
              "  0.08024375885725021,\n",
              "  0.0775371864438057,\n",
              "  0.08719783276319504,\n",
              "  0.06547041237354279,\n",
              "  0.08174997568130493,\n",
              "  0.07397874444723129,\n",
              "  0.07648655027151108,\n",
              "  0.052397385239601135,\n",
              "  0.05389932170510292,\n",
              "  0.055448099970817566],\n",
              " 'accuracy': [0.29004770517349243,\n",
              "  0.3841172456741333,\n",
              "  0.48500341176986694,\n",
              "  0.6073619723320007,\n",
              "  0.6755282878875732,\n",
              "  0.739604651927948,\n",
              "  0.7726653218269348,\n",
              "  0.8295841813087463,\n",
              "  0.8595773577690125,\n",
              "  0.8773006200790405,\n",
              "  0.89570552110672,\n",
              "  0.93047034740448,\n",
              "  0.9226312041282654,\n",
              "  0.9328561425209045,\n",
              "  0.9301295280456543,\n",
              "  0.9492160677909851,\n",
              "  0.9556918740272522,\n",
              "  0.9638718366622925,\n",
              "  0.9645535349845886,\n",
              "  0.9720517992973328,\n",
              "  0.977505087852478,\n",
              "  0.9734151363372803,\n",
              "  0.9761418104171753,\n",
              "  0.9839808940887451,\n",
              "  0.9771642684936523,\n",
              "  0.9788684248924255,\n",
              "  0.9795501232147217,\n",
              "  0.9873892068862915,\n",
              "  0.9856850504875183,\n",
              "  0.9836400747299194],\n",
              " 'val_loss': [1.7367115020751953,\n",
              "  1.3234643936157227,\n",
              "  1.0977561473846436,\n",
              "  0.9936746954917908,\n",
              "  0.819164514541626,\n",
              "  0.7483620643615723,\n",
              "  0.7082498073577881,\n",
              "  0.659369707107544,\n",
              "  0.6705112457275391,\n",
              "  0.6699072122573853,\n",
              "  0.6583366394042969,\n",
              "  0.6557666063308716,\n",
              "  0.6410717368125916,\n",
              "  0.6881351470947266,\n",
              "  0.695453405380249,\n",
              "  0.6793717741966248,\n",
              "  0.7024093866348267,\n",
              "  0.7013682723045349,\n",
              "  0.7600053548812866,\n",
              "  0.7170282006263733,\n",
              "  0.7580249905586243,\n",
              "  0.8175200819969177,\n",
              "  0.8111867904663086,\n",
              "  0.7650386095046997,\n",
              "  0.8220350742340088,\n",
              "  0.8581119775772095,\n",
              "  0.8623087406158447,\n",
              "  0.7604339718818665,\n",
              "  0.7953826189041138,\n",
              "  0.7994813323020935],\n",
              " 'val_accuracy': [0.38489535450935364,\n",
              "  0.4585987329483032,\n",
              "  0.569608747959137,\n",
              "  0.615104615688324,\n",
              "  0.722474992275238,\n",
              "  0.7570518851280212,\n",
              "  0.7834395170211792,\n",
              "  0.8043676018714905,\n",
              "  0.8171064853668213,\n",
              "  0.8216560482978821,\n",
              "  0.8280254602432251,\n",
              "  0.8380345702171326,\n",
              "  0.8343949317932129,\n",
              "  0.8325750827789307,\n",
              "  0.8334850072860718,\n",
              "  0.841674268245697,\n",
              "  0.8507734537124634,\n",
              "  0.8453139066696167,\n",
              "  0.8444039821624756,\n",
              "  0.8471337556838989,\n",
              "  0.8562329411506653,\n",
              "  0.8453139066696167,\n",
              "  0.8507734537124634,\n",
              "  0.8616924285888672,\n",
              "  0.84804368019104,\n",
              "  0.8489536046981812,\n",
              "  0.8507734537124634,\n",
              "  0.8553230166435242,\n",
              "  0.8489536046981812,\n",
              "  0.8516833782196045]}"
            ]
          },
          "metadata": {},
          "execution_count": 20
        }
      ],
      "source": [
        "training_history.history"
      ]
    },
    {
      "cell_type": "code",
      "execution_count": null,
      "metadata": {
        "id": "5uEIwz21bnUZ",
        "colab": {
          "base_uri": "https://localhost:8080/"
        },
        "outputId": "5fb05ebf-65e2-44eb-aac1-e8362146f80b"
      },
      "outputs": [
        {
          "output_type": "stream",
          "name": "stdout",
          "text": [
            "dict_keys(['loss', 'accuracy', 'val_loss', 'val_accuracy'])\n"
          ]
        }
      ],
      "source": [
        "print(training_history.history.keys())"
      ]
    },
    {
      "cell_type": "markdown",
      "metadata": {
        "id": "xkZbmpXybskH"
      },
      "source": [
        "###Calculating Accuracy of Model Achieved on Test set"
      ]
    },
    {
      "cell_type": "code",
      "execution_count": null,
      "metadata": {
        "id": "dYf1CiBKbqDl",
        "colab": {
          "base_uri": "https://localhost:8080/"
        },
        "outputId": "18e2b371-2478-44a4-88da-0b4bf662f830"
      },
      "outputs": [
        {
          "output_type": "stream",
          "name": "stdout",
          "text": [
            "Test set Accuracy: 85.16833782196045 %\n"
          ]
        }
      ],
      "source": [
        "print('Test set Accuracy: {} %'.format(training_history.history['val_accuracy'][-1]*100))\n"
      ]
    },
    {
      "cell_type": "markdown",
      "metadata": {
        "id": "VChJhGm5b00f"
      },
      "source": [
        "##Accuracy Visualization\n"
      ]
    },
    {
      "cell_type": "markdown",
      "metadata": {
        "id": "KmjO-hNab5DO"
      },
      "source": [
        "###Training Visualization"
      ]
    },
    {
      "cell_type": "code",
      "execution_count": null,
      "metadata": {
        "id": "S3bXkUttbyGt",
        "colab": {
          "base_uri": "https://localhost:8080/",
          "height": 472
        },
        "outputId": "20833971-e0de-4145-89a9-f640613dc3b0"
      },
      "outputs": [
        {
          "output_type": "display_data",
          "data": {
            "text/plain": [
              "<Figure size 640x480 with 1 Axes>"
            ],
            "image/png": "[encoded data removed]"
          },
          "metadata": {}
        }
      ],
      "source": [
        "epochs=[i for i in range(1,31)]\n",
        "plt.plot(epochs,training_history.history['accuracy'],color='red')\n",
        "plt.xlabel('Epochs')\n",
        "plt.ylabel('Training Accuracy')\n",
        "plt.title(\"Visualization of Training Accuracy Result\")\n",
        "plt.show()"
      ]
    },
    {
      "cell_type": "code",
      "execution_count": null,
      "metadata": {
        "id": "ajrSf61xhqnD",
        "colab": {
          "base_uri": "https://localhost:8080/"
        },
        "outputId": "cf6a4ff7-5c57-4b57-97cb-88844faba66c"
      },
      "outputs": [
        {
          "output_type": "display_data",
          "data": {
            "text/plain": [
              "<Figure size 640x480 with 1 Axes>"
            ],
            "image/png": "[encoded data removed]"
          },
          "metadata": {}
        }
      ],
      "source": [
        "plt.plot(training_history.history['accuracy'])\n",
        "plt.plot(training_history.history['val_accuracy'])\n",
        "plt.title('model accuracy')\n",
        "plt.ylabel('accuracy')\n",
        "plt.xlabel('epoch')\n",
        "plt.legend(['train', 'val'], loc='upper left')\n",
        "plt.show()"
      ]
    },
    {
      "cell_type": "code",
      "execution_count": null,
      "metadata": {
        "id": "3IcyzJXOh0Qy",
        "colab": {
          "base_uri": "https://localhost:8080/"
        },
        "outputId": "63fbf839-aaf3-4d1b-f26d-ce444a01ffc8"
      },
      "outputs": [
        {
          "output_type": "display_data",
          "data": {
            "text/plain": [
              "<Figure size 640x480 with 1 Axes>"
            ],
            "image/png": "[encoded data removed]"
          },
          "metadata": {}
        }
      ],
      "source": [
        "plt.plot(training_history.history['loss'])\n",
        "plt.plot(training_history.history['val_loss'])\n",
        "plt.title('model loss')\n",
        "plt.ylabel('loss')\n",
        "plt.xlabel('epoch')\n",
        "plt.legend(['train', 'val'], loc='upper left')\n",
        "plt.show()"
      ]
    }
  ],
  "metadata": {
    "accelerator": "GPU",
    "colab": {
      "provenance": []
    },
    "gpuClass": "standard",
    "kernelspec": {
      "display_name": "Python 3",
      "name": "python3"
    },
    "language_info": {
      "name": "python"
    }
  },
  "nbformat": 4,
  "nbformat_minor": 0
}