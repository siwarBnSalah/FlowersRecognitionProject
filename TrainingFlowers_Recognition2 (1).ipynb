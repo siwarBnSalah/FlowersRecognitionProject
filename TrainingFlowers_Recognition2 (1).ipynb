{
  "cells": [
    {
      "cell_type": "markdown",
      "metadata": {
        "id": "w5qQBdX-QXnz"
      },
      "source": [
        "##Importing Libraries"
      ]
    },
    {
      "cell_type": "code",
      "execution_count": null,
      "metadata": {
        "id": "5g092_0YXDOl"
      },
      "outputs": [],
      "source": [
        "import numpy as np\n",
        "import tensorflow as tf\n",
        "from keras.preprocessing.image import ImageDataGenerator\n",
        "import matplotlib.pyplot as plt"
      ]
    },
    {
      "cell_type": "code",
      "execution_count": null,
      "metadata": {
        "id": "AZCd2VwfQE_8"
      },
      "outputs": [],
      "source": [
        "#Collecting Data from Google Drive\n",
        "from google.colab import drive\n",
        "drive.mount('/content/drive')"
      ]
    },
    {
      "cell_type": "code",
      "execution_count": null,
      "metadata": {
        "colab": {
          "background_save": true
        },
        "id": "OWM7t0CfUHVJ",
        "outputId": "0799b189-7114-4f26-a3d3-09026f43e52a"
      },
      "outputs": [
        {
          "name": "stdout",
          "output_type": "stream",
          "text": [
            "Collecting split_folders[full]\n",
            "  Downloading split_folders-0.5.1-py3-none-any.whl (8.4 kB)\n",
            "Requirement already satisfied: tqdm in /usr/local/lib/python3.10/dist-packages (from split_folders[full]) (4.66.1)\n",
            "Installing collected packages: split_folders\n",
            "Successfully installed split_folders-0.5.1\n"
          ]
        }
      ],
      "source": [
        "!pip install split_folders[full]"
      ]
    },
    {
      "cell_type": "code",
      "execution_count": null,
      "metadata": {
        "id": "GifD14m8PfT5"
      },
      "outputs": [],
      "source": [
        "from google.colab import drive\n",
        "drive.mount('/content/drive')"
      ]
    },
    {
      "cell_type": "code",
      "execution_count": null,
      "metadata": {
        "id": "rmN_nTQJUTGO"
      },
      "outputs": [],
      "source": [
        "import splitfolders\n",
        "input_folder='/content/drive/MyDrive/flower_photos'\n",
        "splitfolders.ratio(input_folder,'/content/drive/MyDrive/flowers_Rec2',seed=1337,ratio=(0.7,0.2,0.1))"
      ]
    },
    {
      "cell_type": "markdown",
      "metadata": {
        "id": "u9DhMFPzc1Bx"
      },
      "source": [
        "###Data Preprocessing"
      ]
    },
    {
      "cell_type": "markdown",
      "metadata": {
        "id": "h9soubVKc_r9"
      },
      "source": [
        "###Training Image preprocessing"
      ]
    },
    {
      "cell_type": "code",
      "execution_count": null,
      "metadata": {
        "id": "ehJ45UqDXQHj"
      },
      "outputs": [],
      "source": [
        "# Chargement des ensembles de données\n",
        "training_set = tf.keras.utils.image_dataset_from_directory(\n",
        "    '/content/drive/MyDrive/flowers_Rec2/train',\n",
        "    labels=\"inferred\",\n",
        "    label_mode=\"categorical\",\n",
        "    class_names=['daisy', 'dandelion', 'roses', 'sunflowers', 'tulips'],\n",
        "    color_mode=\"rgb\",\n",
        "    batch_size=64,\n",
        "    image_size=(150, 150),\n",
        "    shuffle=True,\n",
        "    seed=None,\n",
        "    validation_split=None,\n",
        "    subset=None,\n",
        "    interpolation=\"bilinear\",\n",
        "    follow_links=False,\n",
        "    crop_to_aspect_ratio=False\n",
        ")\n"
      ]
    },
    {
      "cell_type": "markdown",
      "metadata": {
        "id": "5us9yF-Bg6UO"
      },
      "source": [
        "###Validation Image preprocessing"
      ]
    },
    {
      "cell_type": "code",
      "execution_count": null,
      "metadata": {
        "id": "9cFfkRQqWDIW"
      },
      "outputs": [],
      "source": [
        "validation_set = tf.keras.utils.image_dataset_from_directory(\n",
        "    '/content/drive/MyDrive/flowers_Rec2/val',\n",
        "    labels=\"inferred\",\n",
        "    label_mode=\"categorical\",\n",
        "    class_names=['daisy', 'dandelion', 'roses', 'sunflowers', 'tulips'],\n",
        "    color_mode=\"rgb\",\n",
        "    batch_size=64,\n",
        "    image_size=(150, 150),\n",
        "    shuffle=True,\n",
        "    seed=None,\n",
        "    validation_split=None,\n",
        "    subset=None,\n",
        "    interpolation=\"bilinear\",\n",
        "    follow_links=False,\n",
        "    crop_to_aspect_ratio=False\n",
        ")"
      ]
    },
    {
      "cell_type": "markdown",
      "metadata": {
        "id": "-QrUKtPrh0Ci"
      },
      "source": [
        "###Building Model"
      ]
    },
    {
      "cell_type": "code",
      "execution_count": null,
      "metadata": {
        "id": "CRud93lWg1sR"
      },
      "outputs": [],
      "source": [
        "cnn = tf.keras.models.Sequential()"
      ]
    },
    {
      "cell_type": "code",
      "execution_count": null,
      "metadata": {
        "id": "tCxEkpgJWiRo"
      },
      "outputs": [],
      "source": [
        "cnn.add(tf.keras.layers.Conv2D(filters=16, kernel_size=5,activation='relu',input_shape=[150,150,3]))\n",
        "cnn.add(tf.keras.layers.MaxPool2D(pool_size=2,strides=2))"
      ]
    },
    {
      "cell_type": "code",
      "execution_count": null,
      "metadata": {
        "id": "9RtxJbl1WsLR"
      },
      "outputs": [],
      "source": [
        "cnn.add(tf.keras.layers.Conv2D(filters=32,kernel_size=3,activation='relu'))\n",
        "cnn.add(tf.keras.layers.MaxPool2D(pool_size=2,strides=2))"
      ]
    },
    {
      "cell_type": "code",
      "execution_count": null,
      "metadata": {
        "id": "w2zY_cd2XA14"
      },
      "outputs": [],
      "source": [
        "cnn.add(tf.keras.layers.Dropout(0.5))"
      ]
    },
    {
      "cell_type": "code",
      "execution_count": null,
      "metadata": {
        "id": "xRkhsYEJXDjy"
      },
      "outputs": [],
      "source": [
        "cnn.add(tf.keras.layers.Flatten())"
      ]
    },
    {
      "cell_type": "code",
      "execution_count": null,
      "metadata": {
        "id": "jGwmkevsXG8X"
      },
      "outputs": [],
      "source": [
        "cnn.add(tf.keras.layers.Dense(units=256,activation='relu'))"
      ]
    },
    {
      "cell_type": "code",
      "execution_count": null,
      "metadata": {
        "id": "JNs0OCqFXKEd"
      },
      "outputs": [],
      "source": [
        "cnn.add(tf.keras.layers.Dense(units=5,activation='softmax'))"
      ]
    },
    {
      "cell_type": "code",
      "execution_count": null,
      "metadata": {
        "id": "MRqw77oIXhRb"
      },
      "outputs": [],
      "source": [
        "cnn.summary()"
      ]
    },
    {
      "cell_type": "markdown",
      "metadata": {
        "id": "mjpFbn5ZXOp1"
      },
      "source": [
        "###Compiling and Training Phase"
      ]
    },
    {
      "cell_type": "code",
      "execution_count": null,
      "metadata": {
        "id": "TcYIOEpqXvWo"
      },
      "outputs": [],
      "source": [
        "cnn.compile(optimizer='adam',loss='categorical_crossentropy', metrics=['accuracy'])"
      ]
    },
    {
      "cell_type": "code",
      "execution_count": null,
      "metadata": {
        "id": "ucNnJjhBX0Go"
      },
      "outputs": [],
      "source": [
        "\n",
        "training_history = cnn.fit(x=training_set,validation_data=validation_set,epochs=30)"
      ]
    },
    {
      "cell_type": "markdown",
      "metadata": {
        "id": "cqdEJVcFbezS"
      },
      "source": [
        "###Saving Model"
      ]
    },
    {
      "cell_type": "code",
      "execution_count": null,
      "metadata": {
        "id": "xneuTp23bbwV"
      },
      "outputs": [],
      "source": [
        "cnn.save(\"trained_model.h5\")"
      ]
    },
    {
      "cell_type": "code",
      "execution_count": null,
      "metadata": {
        "id": "EQo4tZw8bi8V"
      },
      "outputs": [],
      "source": [
        "#Recording History\n",
        "import json\n",
        "with open('training_hist.json', 'w') as f:\n",
        "    json.dump(training_history.history, f)"
      ]
    },
    {
      "cell_type": "code",
      "execution_count": null,
      "metadata": {
        "id": "ETpq3axJbk_h"
      },
      "outputs": [],
      "source": [
        "training_history.history"
      ]
    },
    {
      "cell_type": "code",
      "execution_count": null,
      "metadata": {
        "id": "5uEIwz21bnUZ"
      },
      "outputs": [],
      "source": [
        "print(training_history.history.keys())"
      ]
    },
    {
      "cell_type": "markdown",
      "metadata": {
        "id": "xkZbmpXybskH"
      },
      "source": [
        "###Calculating Accuracy of Model Achieved on Test set"
      ]
    },
    {
      "cell_type": "code",
      "execution_count": null,
      "metadata": {
        "id": "dYf1CiBKbqDl"
      },
      "outputs": [],
      "source": [
        "print('Test set Accuracy: {} %'.format(training_history.history['val_accuracy'][-1]*100))\n"
      ]
    },
    {
      "cell_type": "markdown",
      "metadata": {
        "id": "VChJhGm5b00f"
      },
      "source": [
        "##Accuracy Visualization\n"
      ]
    },
    {
      "cell_type": "markdown",
      "metadata": {
        "id": "KmjO-hNab5DO"
      },
      "source": [
        "###Training Visualization"
      ]
    },
    {
      "cell_type": "code",
      "execution_count": null,
      "metadata": {
        "id": "S3bXkUttbyGt"
      },
      "outputs": [],
      "source": [
        "epochs=[i for i in range(1,31)]\n",
        "plt.plot(epochs,training_history.history['accuracy'],color='red')\n",
        "plt.xlabel('Epochs')\n",
        "plt.ylabel('Training Accuracy')\n",
        "plt.title(\"Visualization of Training Accuracy Result\")\n",
        "plt.show()"
      ]
    },
    {
      "cell_type": "code",
      "execution_count": null,
      "metadata": {
        "id": "ajrSf61xhqnD"
      },
      "outputs": [],
      "source": [
        "plt.plot(training_history.history['accuracy'])\n",
        "plt.plot(training_history.history['val_accuracy'])\n",
        "plt.title('model accuracy')\n",
        "plt.ylabel('accuracy')\n",
        "plt.xlabel('epoch')\n",
        "plt.legend(['train', 'val'], loc='upper left')\n",
        "plt.show()"
      ]
    },
    {
      "cell_type": "code",
      "execution_count": null,
      "metadata": {
        "id": "3IcyzJXOh0Qy"
      },
      "outputs": [],
      "source": [
        "plt.plot(training_history.history['loss'])\n",
        "plt.plot(training_history.history['val_loss'])\n",
        "plt.title('model loss')\n",
        "plt.ylabel('loss')\n",
        "plt.xlabel('epoch')\n",
        "plt.legend(['train', 'val'], loc='upper left')\n",
        "plt.show()"
      ]
    }
  ],
  "metadata": {
    "accelerator": "GPU",
    "colab": {
      "provenance": []
    },
    "gpuClass": "standard",
    "kernelspec": {
      "display_name": "Python 3",
      "name": "python3"
    },
    "language_info": {
      "name": "python"
    }
  },
  "nbformat": 4,
  "nbformat_minor": 0
}