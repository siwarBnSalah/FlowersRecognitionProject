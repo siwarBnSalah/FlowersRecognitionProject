{
  "cells": [
    {
      "cell_type": "markdown",
      "metadata": {
        "id": "w5qQBdX-QXnz"
      },
      "source": [
        "##Importing Libraries"
      ]
    },
    {
      "cell_type": "code",
      "execution_count": null,
      "metadata": {
        "id": "5g092_0YXDOl"
      },
      "outputs": [],
      "source": [
        "import numpy as np\n",
        "import tensorflow as tf\n",
        "from keras.preprocessing.image import ImageDataGenerator\n",
        "import matplotlib.pyplot as plt"
      ]
    },
    {
      "cell_type": "code",
      "execution_count": null,
      "metadata": {
        "id": "AZCd2VwfQE_8",
        "colab": {
          "base_uri": "https://localhost:8080/"
        },
        "outputId": "042f0976-2412-453a-fcc2-771b8a3c8fe3"
      },
      "outputs": [
        {
          "output_type": "stream",
          "name": "stdout",
          "text": [
            "Drive already mounted at /content/drive; to attempt to forcibly remount, call drive.mount(\"/content/drive\", force_remount=True).\n"
          ]
        }
      ],
      "source": [
        "#Collecting Data from Google Drive\n",
        "from google.colab import drive\n",
        "drive.mount('/content/drive')"
      ]
    },
    {
      "cell_type": "code",
      "execution_count": null,
      "metadata": {
        "id": "OWM7t0CfUHVJ",
        "colab": {
          "base_uri": "https://localhost:8080/"
        },
        "outputId": "fb729ab6-e76e-49e6-9fc4-dcfd7fff2d29"
      },
      "outputs": [
        {
          "output_type": "stream",
          "name": "stdout",
          "text": [
            "Looking in indexes: https://pypi.org/simple, https://us-python.pkg.dev/colab-wheels/public/simple/\n",
            "Collecting split_folders[full]\n",
            "  Downloading split_folders-0.5.1-py3-none-any.whl (8.4 kB)\n",
            "Requirement already satisfied: tqdm in /usr/local/lib/python3.10/dist-packages (from split_folders[full]) (4.65.0)\n",
            "Installing collected packages: split_folders\n",
            "Successfully installed split_folders-0.5.1\n"
          ]
        }
      ],
      "source": [
        "!pip install split_folders[full]"
      ]
    },
    {
      "cell_type": "code",
      "source": [
        "from google.colab import drive\n",
        "drive.mount('/content/drive')"
      ],
      "metadata": {
        "colab": {
          "base_uri": "https://localhost:8080/"
        },
        "id": "GifD14m8PfT5",
        "outputId": "32147af0-7801-4327-90ed-26f9120e7872"
      },
      "execution_count": null,
      "outputs": [
        {
          "output_type": "stream",
          "name": "stdout",
          "text": [
            "Drive already mounted at /content/drive; to attempt to forcibly remount, call drive.mount(\"/content/drive\", force_remount=True).\n"
          ]
        }
      ]
    },
    {
      "cell_type": "code",
      "execution_count": null,
      "metadata": {
        "id": "rmN_nTQJUTGO",
        "colab": {
          "base_uri": "https://localhost:8080/"
        },
        "outputId": "639f16d1-758d-4b01-bac4-551a011638c5"
      },
      "outputs": [
        {
          "output_type": "stream",
          "name": "stderr",
          "text": [
            "Copying files: 3670 files [24:33,  2.49 files/s]\n"
          ]
        }
      ],
      "source": [
        "import splitfolders\n",
        "input_folder='/content/drive/MyDrive/flower_photos'\n",
        "splitfolders.ratio(input_folder,'/content/drive/MyDrive/flowers_Rec2',seed=1337,ratio=(0.7,0.2,0.1))"
      ]
    },
    {
      "cell_type": "markdown",
      "metadata": {
        "id": "u9DhMFPzc1Bx"
      },
      "source": [
        "###Data Preprocessing"
      ]
    },
    {
      "cell_type": "markdown",
      "metadata": {
        "id": "h9soubVKc_r9"
      },
      "source": [
        "###Training Image preprocessing"
      ]
    },
    {
      "cell_type": "code",
      "execution_count": null,
      "metadata": {
        "id": "ehJ45UqDXQHj",
        "colab": {
          "base_uri": "https://localhost:8080/"
        },
        "outputId": "199fce5c-e795-4aca-a660-58fd82e21e26"
      },
      "outputs": [
        {
          "output_type": "stream",
          "name": "stdout",
          "text": [
            "Found 2934 files belonging to 5 classes.\n"
          ]
        }
      ],
      "source": [
        "# Chargement des ensembles de données\n",
        "training_set = tf.keras.utils.image_dataset_from_directory(\n",
        "    '/content/drive/MyDrive/flowers_Rec2/train',\n",
        "    labels=\"inferred\",\n",
        "    label_mode=\"categorical\",\n",
        "    class_names=['daisy', 'dandelion', 'roses', 'sunflowers', 'tulips'],\n",
        "    color_mode=\"rgb\",\n",
        "    batch_size=64,\n",
        "    image_size=(150, 150),\n",
        "    shuffle=True,\n",
        "    seed=None,\n",
        "    validation_split=None,\n",
        "    subset=None,\n",
        "    interpolation=\"bilinear\",\n",
        "    follow_links=False,\n",
        "    crop_to_aspect_ratio=False\n",
        ")\n"
      ]
    },
    {
      "cell_type": "markdown",
      "metadata": {
        "id": "5us9yF-Bg6UO"
      },
      "source": [
        "###Validation Image preprocessing"
      ]
    },
    {
      "cell_type": "code",
      "execution_count": null,
      "metadata": {
        "id": "9cFfkRQqWDIW",
        "colab": {
          "base_uri": "https://localhost:8080/"
        },
        "outputId": "699832e3-4e3a-472c-c27e-991657d90312"
      },
      "outputs": [
        {
          "output_type": "stream",
          "name": "stdout",
          "text": [
            "Found 1099 files belonging to 5 classes.\n"
          ]
        }
      ],
      "source": [
        "validation_set = tf.keras.utils.image_dataset_from_directory(\n",
        "    '/content/drive/MyDrive/flowers_Rec2/val',\n",
        "    labels=\"inferred\",\n",
        "    label_mode=\"categorical\",\n",
        "    class_names=['daisy', 'dandelion', 'roses', 'sunflowers', 'tulips'],\n",
        "    color_mode=\"rgb\",\n",
        "    batch_size=64,\n",
        "    image_size=(150, 150),\n",
        "    shuffle=True,\n",
        "    seed=None,\n",
        "    validation_split=None,\n",
        "    subset=None,\n",
        "    interpolation=\"bilinear\",\n",
        "    follow_links=False,\n",
        "    crop_to_aspect_ratio=False\n",
        ")"
      ]
    },
    {
      "cell_type": "markdown",
      "metadata": {
        "id": "-QrUKtPrh0Ci"
      },
      "source": [
        "###Building Model"
      ]
    },
    {
      "cell_type": "code",
      "execution_count": null,
      "metadata": {
        "id": "CRud93lWg1sR"
      },
      "outputs": [],
      "source": [
        "cnn = tf.keras.models.Sequential()"
      ]
    },
    {
      "cell_type": "code",
      "execution_count": null,
      "metadata": {
        "id": "tCxEkpgJWiRo"
      },
      "outputs": [],
      "source": [
        "cnn.add(tf.keras.layers.Conv2D(filters=16, kernel_size=5,activation='relu',input_shape=[150,150,3]))\n",
        "cnn.add(tf.keras.layers.MaxPool2D(pool_size=2,strides=2))"
      ]
    },
    {
      "cell_type": "code",
      "execution_count": null,
      "metadata": {
        "id": "9RtxJbl1WsLR"
      },
      "outputs": [],
      "source": [
        "cnn.add(tf.keras.layers.Conv2D(filters=32,kernel_size=3,activation='relu'))\n",
        "cnn.add(tf.keras.layers.MaxPool2D(pool_size=2,strides=2))"
      ]
    },
    {
      "cell_type": "code",
      "execution_count": null,
      "metadata": {
        "id": "w2zY_cd2XA14"
      },
      "outputs": [],
      "source": [
        "cnn.add(tf.keras.layers.Dropout(0.5))"
      ]
    },
    {
      "cell_type": "code",
      "execution_count": null,
      "metadata": {
        "id": "xRkhsYEJXDjy"
      },
      "outputs": [],
      "source": [
        "cnn.add(tf.keras.layers.Flatten())"
      ]
    },
    {
      "cell_type": "code",
      "execution_count": null,
      "metadata": {
        "id": "jGwmkevsXG8X"
      },
      "outputs": [],
      "source": [
        "cnn.add(tf.keras.layers.Dense(units=256,activation='relu'))"
      ]
    },
    {
      "cell_type": "code",
      "execution_count": null,
      "metadata": {
        "id": "JNs0OCqFXKEd"
      },
      "outputs": [],
      "source": [
        "cnn.add(tf.keras.layers.Dense(units=5,activation='softmax'))"
      ]
    },
    {
      "cell_type": "code",
      "execution_count": null,
      "metadata": {
        "id": "MRqw77oIXhRb",
        "colab": {
          "base_uri": "https://localhost:8080/"
        },
        "outputId": "201741df-b83c-4f65-cf13-e2eea71761fa"
      },
      "outputs": [
        {
          "output_type": "stream",
          "name": "stdout",
          "text": [
            "Model: \"sequential\"\n",
            "_________________________________________________________________\n",
            " Layer (type)                Output Shape              Param #   \n",
            "=================================================================\n",
            " conv2d (Conv2D)             (None, 146, 146, 16)      1216      \n",
            "                                                                 \n",
            " max_pooling2d (MaxPooling2D  (None, 73, 73, 16)       0         \n",
            " )                                                               \n",
            "                                                                 \n",
            " conv2d_1 (Conv2D)           (None, 71, 71, 32)        4640      \n",
            "                                                                 \n",
            " max_pooling2d_1 (MaxPooling  (None, 35, 35, 32)       0         \n",
            " 2D)                                                             \n",
            "                                                                 \n",
            " dropout (Dropout)           (None, 35, 35, 32)        0         \n",
            "                                                                 \n",
            " flatten (Flatten)           (None, 39200)             0         \n",
            "                                                                 \n",
            " dense (Dense)               (None, 256)               10035456  \n",
            "                                                                 \n",
            " dense_1 (Dense)             (None, 5)                 1285      \n",
            "                                                                 \n",
            "=================================================================\n",
            "Total params: 10,042,597\n",
            "Trainable params: 10,042,597\n",
            "Non-trainable params: 0\n",
            "_________________________________________________________________\n"
          ]
        }
      ],
      "source": [
        "cnn.summary()"
      ]
    },
    {
      "cell_type": "markdown",
      "metadata": {
        "id": "mjpFbn5ZXOp1"
      },
      "source": [
        "###Compiling and Training Phase"
      ]
    },
    {
      "cell_type": "code",
      "execution_count": null,
      "metadata": {
        "id": "TcYIOEpqXvWo"
      },
      "outputs": [],
      "source": [
        "cnn.compile(optimizer='adam',loss='categorical_crossentropy', metrics=['accuracy'])"
      ]
    },
    {
      "cell_type": "code",
      "execution_count": null,
      "metadata": {
        "id": "ucNnJjhBX0Go",
        "colab": {
          "base_uri": "https://localhost:8080/"
        },
        "outputId": "7b7b884a-0ed7-46ee-9f1d-1dd62ee71002"
      },
      "outputs": [
        {
          "output_type": "stream",
          "name": "stdout",
          "text": [
            "Epoch 1/30\n",
            "46/46 [==============================] - 218s 4s/step - loss: 232.7176 - accuracy: 0.2365 - val_loss: 1.6317 - val_accuracy: 0.3248\n",
            "Epoch 2/30\n",
            "46/46 [==============================] - 12s 241ms/step - loss: 1.5032 - accuracy: 0.3722 - val_loss: 1.2735 - val_accuracy: 0.4741\n",
            "Epoch 3/30\n",
            "46/46 [==============================] - 11s 204ms/step - loss: 1.2054 - accuracy: 0.5218 - val_loss: 1.0859 - val_accuracy: 0.5814\n",
            "Epoch 4/30\n",
            "46/46 [==============================] - 11s 215ms/step - loss: 0.9607 - accuracy: 0.6530 - val_loss: 0.9010 - val_accuracy: 0.6843\n",
            "Epoch 5/30\n",
            "46/46 [==============================] - 11s 211ms/step - loss: 0.7836 - accuracy: 0.7113 - val_loss: 0.7748 - val_accuracy: 0.7425\n",
            "Epoch 6/30\n",
            "46/46 [==============================] - 9s 184ms/step - loss: 0.6256 - accuracy: 0.7880 - val_loss: 0.7070 - val_accuracy: 0.7643\n",
            "Epoch 7/30\n",
            "46/46 [==============================] - 11s 205ms/step - loss: 0.5093 - accuracy: 0.8265 - val_loss: 0.6678 - val_accuracy: 0.7934\n",
            "Epoch 8/30\n",
            "46/46 [==============================] - 11s 220ms/step - loss: 0.4033 - accuracy: 0.8664 - val_loss: 0.6504 - val_accuracy: 0.8116\n",
            "Epoch 9/30\n",
            "46/46 [==============================] - 11s 213ms/step - loss: 0.3334 - accuracy: 0.8906 - val_loss: 0.6538 - val_accuracy: 0.8308\n",
            "Epoch 10/30\n",
            "46/46 [==============================] - 9s 183ms/step - loss: 0.2870 - accuracy: 0.9049 - val_loss: 0.6492 - val_accuracy: 0.8317\n",
            "Epoch 11/30\n",
            "46/46 [==============================] - 11s 203ms/step - loss: 0.2655 - accuracy: 0.9260 - val_loss: 0.6441 - val_accuracy: 0.8380\n",
            "Epoch 12/30\n",
            "46/46 [==============================] - 11s 219ms/step - loss: 0.2259 - accuracy: 0.9264 - val_loss: 0.6681 - val_accuracy: 0.8389\n",
            "Epoch 13/30\n",
            "46/46 [==============================] - 12s 244ms/step - loss: 0.1790 - accuracy: 0.9424 - val_loss: 0.6420 - val_accuracy: 0.8526\n",
            "Epoch 14/30\n",
            "46/46 [==============================] - 9s 182ms/step - loss: 0.1417 - accuracy: 0.9611 - val_loss: 0.6712 - val_accuracy: 0.8462\n",
            "Epoch 15/30\n",
            "46/46 [==============================] - 10s 188ms/step - loss: 0.1458 - accuracy: 0.9598 - val_loss: 0.7363 - val_accuracy: 0.8408\n",
            "Epoch 16/30\n",
            "46/46 [==============================] - 11s 218ms/step - loss: 0.1228 - accuracy: 0.9659 - val_loss: 0.7046 - val_accuracy: 0.8435\n",
            "Epoch 17/30\n",
            "46/46 [==============================] - 11s 215ms/step - loss: 0.1250 - accuracy: 0.9628 - val_loss: 0.7415 - val_accuracy: 0.8471\n",
            "Epoch 18/30\n",
            "46/46 [==============================] - 12s 245ms/step - loss: 0.0945 - accuracy: 0.9765 - val_loss: 0.7479 - val_accuracy: 0.8462\n",
            "Epoch 19/30\n",
            "46/46 [==============================] - 11s 209ms/step - loss: 0.0800 - accuracy: 0.9765 - val_loss: 0.8118 - val_accuracy: 0.8480\n",
            "Epoch 20/30\n",
            "46/46 [==============================] - 11s 220ms/step - loss: 0.0923 - accuracy: 0.9751 - val_loss: 0.7149 - val_accuracy: 0.8499\n",
            "Epoch 21/30\n",
            "46/46 [==============================] - 11s 219ms/step - loss: 0.0969 - accuracy: 0.9731 - val_loss: 0.8127 - val_accuracy: 0.8480\n",
            "Epoch 22/30\n",
            "46/46 [==============================] - 9s 184ms/step - loss: 0.1197 - accuracy: 0.9673 - val_loss: 0.7122 - val_accuracy: 0.8426\n",
            "Epoch 23/30\n",
            "46/46 [==============================] - 11s 196ms/step - loss: 0.1053 - accuracy: 0.9707 - val_loss: 0.7750 - val_accuracy: 0.8408\n",
            "Epoch 24/30\n",
            "46/46 [==============================] - 11s 216ms/step - loss: 0.0880 - accuracy: 0.9744 - val_loss: 0.7956 - val_accuracy: 0.8480\n",
            "Epoch 25/30\n",
            "46/46 [==============================] - 11s 218ms/step - loss: 0.0797 - accuracy: 0.9799 - val_loss: 0.7437 - val_accuracy: 0.8526\n",
            "Epoch 26/30\n",
            "46/46 [==============================] - 12s 247ms/step - loss: 0.0595 - accuracy: 0.9853 - val_loss: 0.8097 - val_accuracy: 0.8517\n",
            "Epoch 27/30\n",
            "46/46 [==============================] - 10s 193ms/step - loss: 0.0493 - accuracy: 0.9874 - val_loss: 1.0296 - val_accuracy: 0.8380\n",
            "Epoch 28/30\n",
            "46/46 [==============================] - 11s 194ms/step - loss: 0.1237 - accuracy: 0.9663 - val_loss: 0.9484 - val_accuracy: 0.8480\n",
            "Epoch 29/30\n",
            "46/46 [==============================] - 11s 220ms/step - loss: 0.0816 - accuracy: 0.9789 - val_loss: 0.8391 - val_accuracy: 0.8490\n",
            "Epoch 30/30\n",
            "46/46 [==============================] - 11s 218ms/step - loss: 0.0623 - accuracy: 0.9830 - val_loss: 0.7709 - val_accuracy: 0.8544\n"
          ]
        }
      ],
      "source": [
        "\n",
        "training_history = cnn.fit(x=training_set,validation_data=validation_set,epochs=30)"
      ]
    },
    {
      "cell_type": "markdown",
      "metadata": {
        "id": "cqdEJVcFbezS"
      },
      "source": [
        "###Saving Model"
      ]
    },
    {
      "cell_type": "code",
      "execution_count": null,
      "metadata": {
        "id": "xneuTp23bbwV"
      },
      "outputs": [],
      "source": [
        "cnn.save(\"trained_model.h5\")"
      ]
    },
    {
      "cell_type": "code",
      "execution_count": null,
      "metadata": {
        "id": "EQo4tZw8bi8V"
      },
      "outputs": [],
      "source": [
        "#Recording History\n",
        "import json\n",
        "with open('training_hist.json', 'w') as f:\n",
        "    json.dump(training_history.history, f)"
      ]
    },
    {
      "cell_type": "code",
      "execution_count": null,
      "metadata": {
        "id": "ETpq3axJbk_h",
        "colab": {
          "base_uri": "https://localhost:8080/"
        },
        "outputId": "57ccb147-bd54-4af8-e9a9-cb074938f5ba"
      },
      "outputs": [
        {
          "output_type": "execute_result",
          "data": {
            "text/plain": [
              "{'loss': [232.71763610839844,\n",
              "  1.503205418586731,\n",
              "  1.2054167985916138,\n",
              "  0.9606817364692688,\n",
              "  0.7836233973503113,\n",
              "  0.6255984306335449,\n",
              "  0.5093068480491638,\n",
              "  0.40327349305152893,\n",
              "  0.3334388732910156,\n",
              "  0.2870270013809204,\n",
              "  0.2655194103717804,\n",
              "  0.22594062983989716,\n",
              "  0.1790393441915512,\n",
              "  0.14170680940151215,\n",
              "  0.1458074301481247,\n",
              "  0.12282681465148926,\n",
              "  0.1250062882900238,\n",
              "  0.09446921199560165,\n",
              "  0.07997675240039825,\n",
              "  0.09230143576860428,\n",
              "  0.09692259132862091,\n",
              "  0.11974810808897018,\n",
              "  0.10533890873193741,\n",
              "  0.08796177059412003,\n",
              "  0.07971904426813126,\n",
              "  0.05945689603686333,\n",
              "  0.049300625920295715,\n",
              "  0.1237226128578186,\n",
              "  0.08161811530590057,\n",
              "  0.06232462450861931],\n",
              " 'accuracy': [0.2365371435880661,\n",
              "  0.37218815088272095,\n",
              "  0.5218132138252258,\n",
              "  0.6530333757400513,\n",
              "  0.7113156318664551,\n",
              "  0.7880027294158936,\n",
              "  0.8265166878700256,\n",
              "  0.8663939833641052,\n",
              "  0.8905930519104004,\n",
              "  0.9049080014228821,\n",
              "  0.9260395169258118,\n",
              "  0.9263803958892822,\n",
              "  0.9423994421958923,\n",
              "  0.9611452221870422,\n",
              "  0.9597818851470947,\n",
              "  0.9659168124198914,\n",
              "  0.9628493785858154,\n",
              "  0.976482629776001,\n",
              "  0.976482629776001,\n",
              "  0.9751192927360535,\n",
              "  0.9730743169784546,\n",
              "  0.9672801494598389,\n",
              "  0.9706884622573853,\n",
              "  0.9744376540184021,\n",
              "  0.9798909425735474,\n",
              "  0.9853442311286926,\n",
              "  0.9873892068862915,\n",
              "  0.9662576913833618,\n",
              "  0.9788684248924255,\n",
              "  0.9829584360122681],\n",
              " 'val_loss': [1.6317334175109863,\n",
              "  1.2735129594802856,\n",
              "  1.0858986377716064,\n",
              "  0.9009881615638733,\n",
              "  0.7748475074768066,\n",
              "  0.7070297002792358,\n",
              "  0.6677515506744385,\n",
              "  0.6503512859344482,\n",
              "  0.6538167595863342,\n",
              "  0.6492471694946289,\n",
              "  0.644119381904602,\n",
              "  0.6681042313575745,\n",
              "  0.6420137286186218,\n",
              "  0.6711815595626831,\n",
              "  0.7363163828849792,\n",
              "  0.704558789730072,\n",
              "  0.7414591312408447,\n",
              "  0.7479459047317505,\n",
              "  0.8118283748626709,\n",
              "  0.7148703336715698,\n",
              "  0.8127235770225525,\n",
              "  0.7122028470039368,\n",
              "  0.7750181555747986,\n",
              "  0.7956081032752991,\n",
              "  0.7436631321907043,\n",
              "  0.809749960899353,\n",
              "  1.029642939567566,\n",
              "  0.9483663439750671,\n",
              "  0.8391129374504089,\n",
              "  0.7708781957626343],\n",
              " 'val_accuracy': [0.3248407542705536,\n",
              "  0.4740673303604126,\n",
              "  0.5814376473426819,\n",
              "  0.6842584013938904,\n",
              "  0.7424931526184082,\n",
              "  0.7643312215805054,\n",
              "  0.7934485673904419,\n",
              "  0.8116469383239746,\n",
              "  0.8307552337646484,\n",
              "  0.8316651582717896,\n",
              "  0.8380345702171326,\n",
              "  0.8389444947242737,\n",
              "  0.8525932431221008,\n",
              "  0.8462238311767578,\n",
              "  0.8407643437385559,\n",
              "  0.8434940576553345,\n",
              "  0.8471337556838989,\n",
              "  0.8462238311767578,\n",
              "  0.84804368019104,\n",
              "  0.8498635292053223,\n",
              "  0.84804368019104,\n",
              "  0.8425841927528381,\n",
              "  0.8407643437385559,\n",
              "  0.84804368019104,\n",
              "  0.8525932431221008,\n",
              "  0.8516833782196045,\n",
              "  0.8380345702171326,\n",
              "  0.84804368019104,\n",
              "  0.8489536046981812,\n",
              "  0.8544130921363831]}"
            ]
          },
          "metadata": {},
          "execution_count": 20
        }
      ],
      "source": [
        "training_history.history"
      ]
    },
    {
      "cell_type": "code",
      "execution_count": null,
      "metadata": {
        "id": "5uEIwz21bnUZ",
        "colab": {
          "base_uri": "https://localhost:8080/"
        },
        "outputId": "1c242b6a-bfc9-46b4-b593-ce0103365632"
      },
      "outputs": [
        {
          "output_type": "stream",
          "name": "stdout",
          "text": [
            "dict_keys(['loss', 'accuracy', 'val_loss', 'val_accuracy'])\n"
          ]
        }
      ],
      "source": [
        "print(training_history.history.keys())"
      ]
    },
    {
      "cell_type": "markdown",
      "metadata": {
        "id": "xkZbmpXybskH"
      },
      "source": [
        "###Calculating Accuracy of Model Achieved on Test set"
      ]
    },
    {
      "cell_type": "code",
      "execution_count": null,
      "metadata": {
        "id": "dYf1CiBKbqDl",
        "colab": {
          "base_uri": "https://localhost:8080/"
        },
        "outputId": "84f9b0ee-93cd-411e-ee8f-8e65dc03552e"
      },
      "outputs": [
        {
          "output_type": "stream",
          "name": "stdout",
          "text": [
            "Test set Accuracy: 85.4413092136383 %\n"
          ]
        }
      ],
      "source": [
        "print('Test set Accuracy: {} %'.format(training_history.history['val_accuracy'][-1]*100))\n"
      ]
    },
    {
      "cell_type": "markdown",
      "metadata": {
        "id": "VChJhGm5b00f"
      },
      "source": [
        "##Accuracy Visualization\n"
      ]
    },
    {
      "cell_type": "markdown",
      "metadata": {
        "id": "KmjO-hNab5DO"
      },
      "source": [
        "###Training Visualization"
      ]
    },
    {
      "cell_type": "code",
      "execution_count": null,
      "metadata": {
        "id": "S3bXkUttbyGt",
        "colab": {
          "base_uri": "https://localhost:8080/",
          "height": 472
        },
        "outputId": "558198fe-d419-4db8-a445-33c60b6ce7e0"
      },
      "outputs": [
        {
          "output_type": "display_data",
          "data": {
            "text/plain": [
              "<Figure size 640x480 with 1 Axes>"
            ],
            "image/png": "[encoded data removed]"
          },
          "metadata": {}
        }
      ],
      "source": [
        "epochs=[i for i in range(1,31)]\n",
        "plt.plot(epochs,training_history.history['accuracy'],color='red')\n",
        "plt.xlabel('Epochs')\n",
        "plt.ylabel('Training Accuracy')\n",
        "plt.title(\"Visualization of Training Accuracy Result\")\n",
        "plt.show()"
      ]
    },
    {
      "cell_type": "code",
      "execution_count": null,
      "metadata": {
        "id": "ajrSf61xhqnD",
        "colab": {
          "base_uri": "https://localhost:8080/",
          "height": 472
        },
        "outputId": "329948a5-c5d9-4723-f520-f04ff8d13753"
      },
      "outputs": [
        {
          "output_type": "display_data",
          "data": {
            "text/plain": [
              "<Figure size 640x480 with 1 Axes>"
            ],
            "image/png": "[encoded data removed]"
          },
          "metadata": {}
        }
      ],
      "source": [
        "plt.plot(training_history.history['accuracy'])\n",
        "plt.plot(training_history.history['val_accuracy'])\n",
        "plt.title('model accuracy')\n",
        "plt.ylabel('accuracy')\n",
        "plt.xlabel('epoch')\n",
        "plt.legend(['train', 'val'], loc='upper left')\n",
        "plt.show()"
      ]
    },
    {
      "cell_type": "code",
      "execution_count": null,
      "metadata": {
        "id": "3IcyzJXOh0Qy",
        "colab": {
          "base_uri": "https://localhost:8080/",
          "height": 472
        },
        "outputId": "a563a12f-0868-4890-ed8e-d18f2070a494"
      },
      "outputs": [
        {
          "output_type": "display_data",
          "data": {
            "text/plain": [
              "<Figure size 640x480 with 1 Axes>"
            ],
            "image/png": "[encoded data removed]"
          },
          "metadata": {}
        }
      ],
      "source": [
        "plt.plot(training_history.history['loss'])\n",
        "plt.plot(training_history.history['val_loss'])\n",
        "plt.title('model loss')\n",
        "plt.ylabel('loss')\n",
        "plt.xlabel('epoch')\n",
        "plt.legend(['train', 'val'], loc='upper left')\n",
        "plt.show()"
      ]
    }
  ],
  "metadata": {
    "accelerator": "GPU",
    "colab": {
      "provenance": []
    },
    "gpuClass": "standard",
    "kernelspec": {
      "display_name": "Python 3",
      "name": "python3"
    },
    "language_info": {
      "name": "python"
    }
  },
  "nbformat": 4,
  "nbformat_minor": 0
}